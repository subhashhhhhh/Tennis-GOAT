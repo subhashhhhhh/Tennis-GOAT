{
 "cells": [
  {
   "cell_type": "markdown",
   "metadata": {},
   "source": [
    "<h1>GOAT Score</h1>"
   ]
  },
  {
   "cell_type": "code",
   "execution_count": 43,
   "metadata": {},
   "outputs": [
    {
     "name": "stdout",
     "output_type": "stream",
     "text": [
      "+----+----------+---------------+--------------+----------------+------------------+-----------------------+--------------+-----------------------+---------------------+--------------+\n",
      "|    | Player   |   Grand_Slams |   ATP_Finals |   Weeks_at_No1 |   Weeks_in_Top10 |   Masters_1000_Titles |   Big_Titles |   Olympic_Gold_Medals |   Grand_Slam_Finals |   GOAT_Score |\n",
      "+====+==========+===============+==============+================+==================+=======================+==============+=======================+=====================+==============+\n",
      "|  0 | Djokovic |            24 |            7 |            428 |              856 |                    40 |           72 |                     1 |                  37 |        809.2 |\n",
      "+----+----------+---------------+--------------+----------------+------------------+-----------------------+--------------+-----------------------+---------------------+--------------+\n",
      "|  1 | Federer  |            20 |            6 |            310 |              968 |                    28 |           54 |                     0 |                  31 |        669.6 |\n",
      "+----+----------+---------------+--------------+----------------+------------------+-----------------------+--------------+-----------------------+---------------------+--------------+\n",
      "|  2 | Nadal    |            22 |            0 |            209 |              912 |                    36 |           59 |                     1 |                  30 |        636.9 |\n",
      "+----+----------+---------------+--------------+----------------+------------------+-----------------------+--------------+-----------------------+---------------------+--------------+\n"
     ]
    }
   ],
   "source": [
    "import pandas as pd\n",
    "from tabulate import tabulate\n",
    "\n",
    "data = {\n",
    "    'Player': ['Djokovic', 'Federer', 'Nadal'],\n",
    "    'Grand_Slams': [24, 20, 22],\n",
    "    'ATP_Finals': [7, 6, 0],\n",
    "    'Weeks_at_No1': [428, 310, 209],\n",
    "    'Weeks_in_Top10': [856, 968, 912],\n",
    "    'Masters_1000_Titles': [40, 28, 36],\n",
    "    'Big_Titles': [72, 54, 59],\n",
    "    'Olympic_Gold_Medals': [1, 0, 1],\n",
    "    'Grand_Slam_Finals': [37, 31, 30]\n",
    "}\n",
    "\n",
    "df = pd.DataFrame(data)\n",
    "\n",
    "#Custom GOAT Score formula\n",
    "\n",
    "df['GOAT_Score'] = (\n",
    "    (df['Grand_Slams'] * 3) +\n",
    "    (df['ATP_Finals'] * 2) +\n",
    "    (df['Weeks_at_No1'] * 0.5) +\n",
    "    (df['Weeks_in_Top10'] * 0.2) +\n",
    "    (df['Masters_1000_Titles'] * 2) +\n",
    "    (df['Big_Titles'] * 3) +\n",
    "    (df['Olympic_Gold_Medals'] * 5) +\n",
    "    (df['Grand_Slam_Finals'] * 1)\n",
    ")\n",
    "\n",
    "df_sorted = df.sort_values(by='GOAT_Score', ascending=False)\n",
    "\n",
    "print(tabulate(df_sorted, headers='keys', tablefmt='grid'))\n"
   ]
  }
 ],
 "metadata": {
  "kernelspec": {
   "display_name": "Python 3",
   "language": "python",
   "name": "python3"
  },
  "language_info": {
   "codemirror_mode": {
    "name": "ipython",
    "version": 3
   },
   "file_extension": ".py",
   "mimetype": "text/x-python",
   "name": "python",
   "nbconvert_exporter": "python",
   "pygments_lexer": "ipython3",
   "version": "3.11.4"
  }
 },
 "nbformat": 4,
 "nbformat_minor": 2
}
